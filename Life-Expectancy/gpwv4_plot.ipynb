{
 "cells": [
  {
   "cell_type": "code",
   "execution_count": null,
   "metadata": {
    "colab": {
     "base_uri": "https://localhost:8080/",
     "height": 547
    },
    "colab_type": "code",
    "id": "4lsdWZ8GxM0a",
    "outputId": "be31cdd4-fff1-4042-a9f5-406fd6c8341a"
   },
   "outputs": [
    {
     "name": "stdout",
     "output_type": "stream",
     "text": [
      "Collecting geopandas\n",
      "\u001b[?25l  Downloading https://files.pythonhosted.org/packages/f7/a4/e66aafbefcbb717813bf3a355c8c4fc3ed04ea1dd7feb2920f2f4f868921/geopandas-0.8.1-py2.py3-none-any.whl (962kB)\n",
      "\u001b[K     |████████████████████████████████| 972kB 2.9MB/s \n",
      "\u001b[?25hCollecting fiona\n",
      "\u001b[?25l  Downloading https://files.pythonhosted.org/packages/ec/20/4e63bc5c6e62df889297b382c3ccd4a7a488b00946aaaf81a118158c6f09/Fiona-1.8.13.post1-cp36-cp36m-manylinux1_x86_64.whl (14.7MB)\n",
      "\u001b[K     |████████████████████████████████| 14.7MB 243kB/s \n",
      "\u001b[?25hCollecting pyproj>=2.2.0\n",
      "\u001b[?25l  Downloading https://files.pythonhosted.org/packages/e5/c3/071e080230ac4b6c64f1a2e2f9161c9737a2bc7b683d2c90b024825000c0/pyproj-2.6.1.post1-cp36-cp36m-manylinux2010_x86_64.whl (10.9MB)\n",
      "\u001b[K     |████████████████████████████████| 10.9MB 45.4MB/s \n",
      "\u001b[?25hRequirement already satisfied: pandas>=0.23.0 in /usr/local/lib/python3.6/dist-packages (from geopandas) (1.0.5)\n",
      "Requirement already satisfied: shapely in /usr/local/lib/python3.6/dist-packages (from geopandas) (1.7.1)\n",
      "Requirement already satisfied: attrs>=17 in /usr/local/lib/python3.6/dist-packages (from fiona->geopandas) (20.1.0)\n",
      "Requirement already satisfied: click<8,>=4.0 in /usr/local/lib/python3.6/dist-packages (from fiona->geopandas) (7.1.2)\n",
      "Requirement already satisfied: six>=1.7 in /usr/local/lib/python3.6/dist-packages (from fiona->geopandas) (1.15.0)\n",
      "Collecting click-plugins>=1.0\n",
      "  Downloading https://files.pythonhosted.org/packages/e9/da/824b92d9942f4e472702488857914bdd50f73021efea15b4cad9aca8ecef/click_plugins-1.1.1-py2.py3-none-any.whl\n",
      "Collecting cligj>=0.5\n",
      "  Downloading https://files.pythonhosted.org/packages/e4/be/30a58b4b0733850280d01f8bd132591b4668ed5c7046761098d665ac2174/cligj-0.5.0-py3-none-any.whl\n",
      "Collecting munch\n",
      "  Downloading https://files.pythonhosted.org/packages/cc/ab/85d8da5c9a45e072301beb37ad7f833cd344e04c817d97e0cc75681d248f/munch-2.5.0-py2.py3-none-any.whl\n",
      "Requirement already satisfied: numpy>=1.13.3 in /usr/local/lib/python3.6/dist-packages (from pandas>=0.23.0->geopandas) (1.18.5)\n",
      "Requirement already satisfied: python-dateutil>=2.6.1 in /usr/local/lib/python3.6/dist-packages (from pandas>=0.23.0->geopandas) (2.8.1)\n",
      "Requirement already satisfied: pytz>=2017.2 in /usr/local/lib/python3.6/dist-packages (from pandas>=0.23.0->geopandas) (2018.9)\n",
      "Installing collected packages: click-plugins, cligj, munch, fiona, pyproj, geopandas\n",
      "Successfully installed click-plugins-1.1.1 cligj-0.5.0 fiona-1.8.13.post1 geopandas-0.8.1 munch-2.5.0 pyproj-2.6.1.post1\n",
      "Collecting h3\n",
      "\u001b[?25l  Downloading https://files.pythonhosted.org/packages/bf/77/df4b7b3f989cbd3aec5894f6058a31981f05f151f9bbfc3f5827178eeedc/h3-3.6.4-cp36-cp36m-manylinux2010_x86_64.whl (761kB)\n",
      "\u001b[K     |████████████████████████████████| 768kB 2.8MB/s \n",
      "\u001b[?25hInstalling collected packages: h3\n",
      "Successfully installed h3-3.6.4\n"
     ]
    }
   ],
   "source": [
    "!pip install geopandas\n",
    "!pip install h3"
   ]
  },
  {
   "cell_type": "code",
   "execution_count": null,
   "metadata": {
    "colab": {},
    "colab_type": "code",
    "id": "7V6IgV_UxHJc"
   },
   "outputs": [],
   "source": [
    "import geopandas as gpd\n",
    "import pandas as pd\n",
    "import os\n",
    "from h3 import h3\n",
    "import json\n",
    "from tqdm import tqdm\n",
    "import pyarrow.parquet as pq\n",
    "from shapely.geometry.polygon import Polygon\n",
    "from shapely.geometry.multipolygon import MultiPolygon"
   ]
  },
  {
   "cell_type": "code",
   "execution_count": null,
   "metadata": {
    "colab": {},
    "colab_type": "code",
    "id": "wgZ6rIiBTyBa"
   },
   "outputs": [],
   "source": [
    "def explode(indata):\n",
    "    indf = indata\n",
    "    outdf = gpd.GeoDataFrame(columns=indf.columns)\n",
    "    for idx, row in indf.iterrows():\n",
    "        if type(row.geometry) == Polygon:\n",
    "            outdf = outdf.append(row,ignore_index=True)\n",
    "        if type(row.geometry) == MultiPolygon:\n",
    "            multdf = gpd.GeoDataFrame(columns=indf.columns)\n",
    "            recs = len(row.geometry)\n",
    "            multdf = multdf.append([row]*recs,ignore_index=True)\n",
    "            for geom in range(recs):\n",
    "                multdf.loc[geom,'geometry'] = row.geometry[geom]\n",
    "            outdf = outdf.append(multdf,ignore_index=True)\n",
    "    return outdf\n",
    "\n",
    "def reverse_lat_lon(hex_coords):\n",
    "    geom_hex = []\n",
    "    for lat_lon in hex_coords:\n",
    "        geom_hex.append([lat_lon[1],lat_lon[0]])\n",
    "\n",
    "    return geom_hex\n",
    "\n",
    "\n",
    "\n",
    "def get_hex_cover(geojson_layer):\n",
    "    hex_list = []\n",
    "\n",
    "    for i in tqdm(range(0,len(geojson_layer[\"features\"]),1)):\n",
    "        set_hexagons = h3.polyfill(geojson = geojson_layer[\"features\"][i][\"geometry\"], res = 4, geo_json_conformant = True)\n",
    "        list_hexagons = list(set_hexagons)\n",
    "        hex_list.append(list_hexagons)\n",
    "\n",
    "    flat_list = [item for sublist in hex_list for item in sublist]\n",
    "\n",
    "    df_fill_hex = pd.DataFrame({\"hex_id\": flat_list})\n",
    "    df_fill_hex[\"value\"] = 0\n",
    "    df_fill_hex['geometry'] = df_fill_hex[\"hex_id\"].apply(lambda x: Polygon([reverse_lat_lon(h3.h3_to_geo_boundary(h=x,geo_json=False))][0]))\n",
    "    df_fill_hex = gpd.GeoDataFrame(df_fill_hex)\n",
    "\n",
    "    df_fill_hex[\"hex_center\"] = df_fill_hex.apply(lambda row: row[\"geometry\"].centroid, axis=1)\n",
    "    df_fill_hex[\"hex_lon\"] = df_fill_hex.apply(lambda row: row[\"hex_center\"].x, axis=1)\n",
    "    df_fill_hex[\"hex_lat\"] = df_fill_hex.apply(lambda row: row[\"hex_center\"].y, axis=1)\n",
    "    return df_fill_hex\n",
    "\n"
   ]
  },
  {
   "cell_type": "code",
   "execution_count": null,
   "metadata": {
    "colab": {},
    "colab_type": "code",
    "id": "QiIli_tmayNr"
   },
   "outputs": [],
   "source": [
    "table2 = pq.read_table('/Users/restore/Downloads/population_v3.parquet')\n",
    "df = table2.to_pandas()"
   ]
  },
  {
   "cell_type": "code",
   "execution_count": null,
   "metadata": {
    "colab": {},
    "colab_type": "code",
    "id": "7BcSSIKva06y"
   },
   "outputs": [],
   "source": [
    "gdf = gpd.GeoDataFrame(df, geometry=gpd.points_from_xy(df['lat_round'], df['lon_round'])) # fix this"
   ]
  },
  {
   "cell_type": "code",
   "execution_count": null,
   "metadata": {
    "colab": {},
    "colab_type": "code",
    "id": "l3CY7KIgxTMb"
   },
   "outputs": [],
   "source": [
    "# Load Shapefiles\n",
    "us_gdf = gpd.read_file('https://eric.clst.org/assets/wiki/uploads/Stuff/gz_2010_us_040_00_20m.json')\n",
    "us_gdf = us_gdf.loc[~(us_gdf['NAME'].isin(['Hawaii','Alaska']))]\n",
    "us_gdf = explode(us_gdf)\n"
   ]
  },
  {
   "cell_type": "code",
   "execution_count": null,
   "metadata": {
    "colab": {},
    "colab_type": "code",
    "id": "bu31AgLhUKSQ"
   },
   "outputs": [],
   "source": [
    "geojson_layer = json.loads(us_gdf.to_json())"
   ]
  },
  {
   "cell_type": "code",
   "execution_count": null,
   "metadata": {
    "colab": {
     "base_uri": "https://localhost:8080/",
     "height": 34
    },
    "colab_type": "code",
    "id": "ZJLjujKtVqsL",
    "outputId": "5eb1ee0b-bb0f-47f8-b8d1-1b853be73937"
   },
   "outputs": [
    {
     "name": "stderr",
     "output_type": "stream",
     "text": [
      "100%|██████████| 166/166 [00:00<00:00, 617.34it/s]\n"
     ]
    }
   ],
   "source": [
    "df_fill_hex = get_hex_cover(geojson_layer)"
   ]
  },
  {
   "cell_type": "code",
   "execution_count": null,
   "metadata": {
    "colab": {
     "base_uri": "https://localhost:8080/",
     "height": 204
    },
    "colab_type": "code",
    "id": "pw5Xhy3lXE4v",
    "outputId": "18a839fd-1873-4a69-a94a-28b4fc0de923"
   },
   "outputs": [
    {
     "data": {
      "text/html": [
       "<div>\n",
       "<style scoped>\n",
       "    .dataframe tbody tr th:only-of-type {\n",
       "        vertical-align: middle;\n",
       "    }\n",
       "\n",
       "    .dataframe tbody tr th {\n",
       "        vertical-align: top;\n",
       "    }\n",
       "\n",
       "    .dataframe thead th {\n",
       "        text-align: right;\n",
       "    }\n",
       "</style>\n",
       "<table border=\"1\" class=\"dataframe\">\n",
       "  <thead>\n",
       "    <tr style=\"text-align: right;\">\n",
       "      <th></th>\n",
       "      <th>hex_id</th>\n",
       "      <th>value</th>\n",
       "      <th>geometry</th>\n",
       "      <th>hex_center</th>\n",
       "      <th>hex_lon</th>\n",
       "      <th>hex_lat</th>\n",
       "    </tr>\n",
       "  </thead>\n",
       "  <tbody>\n",
       "    <tr>\n",
       "      <th>0</th>\n",
       "      <td>8448cb5ffffffff</td>\n",
       "      <td>0</td>\n",
       "      <td>POLYGON ((-109.29491 36.04102, -109.04849 36.1...</td>\n",
       "      <td>POINT (-109.3385842615073 36.28555017540165)</td>\n",
       "      <td>-109.338584</td>\n",
       "      <td>36.285550</td>\n",
       "    </tr>\n",
       "    <tr>\n",
       "      <th>1</th>\n",
       "      <td>84269a7ffffffff</td>\n",
       "      <td>0</td>\n",
       "      <td>POLYGON ((-109.96540 36.71093, -109.71850 36.8...</td>\n",
       "      <td>POINT (-110.0108183913315 36.95392193295385)</td>\n",
       "      <td>-110.010818</td>\n",
       "      <td>36.953922</td>\n",
       "    </tr>\n",
       "    <tr>\n",
       "      <th>2</th>\n",
       "      <td>8429b1dffffffff</td>\n",
       "      <td>0</td>\n",
       "      <td>POLYGON ((-114.43740 34.58058, -114.20352 34.7...</td>\n",
       "      <td>POINT (-114.4912927964836 34.82446133053896)</td>\n",
       "      <td>-114.491293</td>\n",
       "      <td>34.824461</td>\n",
       "    </tr>\n",
       "    <tr>\n",
       "      <th>3</th>\n",
       "      <td>8448cb1ffffffff</td>\n",
       "      <td>0</td>\n",
       "      <td>POLYGON ((-109.83025 35.97852, -109.58479 36.1...</td>\n",
       "      <td>POINT (-109.8750665338222 36.22292858735794)</td>\n",
       "      <td>-109.875067</td>\n",
       "      <td>36.222929</td>\n",
       "    </tr>\n",
       "    <tr>\n",
       "      <th>4</th>\n",
       "      <td>8448ea5ffffffff</td>\n",
       "      <td>0</td>\n",
       "      <td>POLYGON ((-109.50349 32.60471, -109.26481 32.7...</td>\n",
       "      <td>POINT (-109.5462861277193 32.85444891790489)</td>\n",
       "      <td>-109.546286</td>\n",
       "      <td>32.854449</td>\n",
       "    </tr>\n",
       "  </tbody>\n",
       "</table>\n",
       "</div>"
      ],
      "text/plain": [
       "            hex_id  value  ...     hex_lon    hex_lat\n",
       "0  8448cb5ffffffff      0  ... -109.338584  36.285550\n",
       "1  84269a7ffffffff      0  ... -110.010818  36.953922\n",
       "2  8429b1dffffffff      0  ... -114.491293  34.824461\n",
       "3  8448cb1ffffffff      0  ... -109.875067  36.222929\n",
       "4  8448ea5ffffffff      0  ... -109.546286  32.854449\n",
       "\n",
       "[5 rows x 6 columns]"
      ]
     },
     "execution_count": 41,
     "metadata": {
      "tags": []
     },
     "output_type": "execute_result"
    }
   ],
   "source": [
    "df_fill_hex.head()"
   ]
  },
  {
   "cell_type": "code",
   "execution_count": null,
   "metadata": {
    "colab": {},
    "colab_type": "code",
    "id": "eti8HGa9ZGe-"
   },
   "outputs": [],
   "source": [
    "gdf = gpd.sjoin(df_fill_hex, df, how='left',op='intersects',)"
   ]
  },
  {
   "cell_type": "code",
   "execution_count": null,
   "metadata": {
    "colab": {},
    "colab_type": "code",
    "id": "3JXr4RNCbAZU"
   },
   "outputs": [],
   "source": []
  }
 ],
 "metadata": {
  "colab": {
   "collapsed_sections": [],
   "name": "gpwv4_plot.ipynb",
   "provenance": []
  },
  "kernelspec": {
   "display_name": "Python 3",
   "language": "python",
   "name": "python3"
  },
  "language_info": {
   "codemirror_mode": {
    "name": "ipython",
    "version": 3
   },
   "file_extension": ".py",
   "mimetype": "text/x-python",
   "name": "python",
   "nbconvert_exporter": "python",
   "pygments_lexer": "ipython3",
   "version": "3.8.3"
  }
 },
 "nbformat": 4,
 "nbformat_minor": 1
}
